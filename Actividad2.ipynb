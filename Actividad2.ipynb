{
  "nbformat": 4,
  "nbformat_minor": 0,
  "metadata": {
    "colab": {
      "name": "Untitled0.ipynb",
      "provenance": [],
      "authorship_tag": "ABX9TyOh/xLCy/+XhMQ0SRwVPJkF",
      "include_colab_link": true
    },
    "kernelspec": {
      "name": "python3",
      "display_name": "Python 3"
    },
    "language_info": {
      "name": "python"
    }
  },
  "cells": [
    {
      "cell_type": "markdown",
      "metadata": {
        "id": "view-in-github",
        "colab_type": "text"
      },
      "source": [
        "<a href=\"https://colab.research.google.com/github/190860DavidArango/Primer_Examen_Parcial_Sabatinos/blob/main/Actividad2.ipynb\" target=\"_parent\"><img src=\"https://colab.research.google.com/assets/colab-badge.svg\" alt=\"Open In Colab\"/></a>"
      ]
    },
    {
      "cell_type": "code",
      "execution_count": 1,
      "metadata": {
        "colab": {
          "base_uri": "https://localhost:8080/"
        },
        "id": "P3a6mFApjJHC",
        "outputId": "712b31d6-2ca7-42c7-ab5f-65d89c6748ef"
      },
      "outputs": [
        {
          "output_type": "stream",
          "name": "stdout",
          "text": [
            "Ingrese su nombre: David\n",
            "Hola David\n"
          ]
        }
      ],
      "source": [
        "nombre=str(input(\"Ingrese su nombre: \"))\n",
        "if nombre!=\"Ana\" and nombre!=\"Juan\" and nombre!=\"Pedro\":\n",
        "  print(\"Hola\",nombre)"
      ]
    },
    {
      "cell_type": "code",
      "source": [
        "lista=[2,4,5,7,4,7,10]\n",
        "print(\"El último elemento es: \",lista[-1])\n",
        "print(\"Lista original: \")\n",
        "print(lista)\n",
        "print(\"Lista revertida: \")\n",
        "contador = len(lista) - 1\n",
        "nuevaLista = []\n",
        "while (contador >= 0):\n",
        "  nuevaLista.append(lista[contador])\n",
        "  contador = contador - 1\n",
        "print(nuevaLista)"
      ],
      "metadata": {
        "colab": {
          "base_uri": "https://localhost:8080/"
        },
        "id": "qCY9PZ96jM2H",
        "outputId": "54db3605-c093-4177-cc60-c5711277930b"
      },
      "execution_count": 3,
      "outputs": [
        {
          "output_type": "stream",
          "name": "stdout",
          "text": [
            "El último elemento es:  10\n",
            "Lista original: \n",
            "[2, 4, 5, 7, 4, 7, 10]\n",
            "Lista revertida: \n",
            "[10, 7, 4, 7, 5, 4, 2]\n"
          ]
        }
      ]
    },
    {
      "cell_type": "code",
      "source": [
        "lista=[\"Hola\",\"a\",\"todos\",\"esto\",\"es\",\"un\",\"marco\"]\n",
        "print(\"***\\n* \",lista[0],\" * \\n* \",lista[1],\"    \\n \",lista[2],\"\\n \",lista[3],\" \\n \",lista[4], \"   \\n \",lista[5],\"   \\n \",lista[6],\"\\n****\"   )\n",
        "\n"
      ],
      "metadata": {
        "colab": {
          "base_uri": "https://localhost:8080/"
        },
        "id": "i4hNVt8CjWSk",
        "outputId": "946bc4f5-1eae-4197-b957-89d9e395c0b0"
      },
      "execution_count": 4,
      "outputs": [
        {
          "output_type": "stream",
          "name": "stdout",
          "text": [
            "***\n",
            "*  Hola  * \n",
            "*  a     \n",
            "  todos \n",
            "  esto  \n",
            "  es    \n",
            "  un    \n",
            "  marco \n",
            "****\n"
          ]
        }
      ]
    }
  ]
}