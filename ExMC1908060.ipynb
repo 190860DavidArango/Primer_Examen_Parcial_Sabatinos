{
  "nbformat": 4,
  "nbformat_minor": 0,
  "metadata": {
    "colab": {
      "name": "ExMC1908060",
      "provenance": [],
      "authorship_tag": "ABX9TyMDZ2OYXZLDH60CFkAuJ8rw",
      "include_colab_link": true
    },
    "kernelspec": {
      "name": "python3",
      "display_name": "Python 3"
    },
    "language_info": {
      "name": "python"
    }
  },
  "cells": [
    {
      "cell_type": "markdown",
      "metadata": {
        "id": "view-in-github",
        "colab_type": "text"
      },
      "source": [
        "<a href=\"https://colab.research.google.com/github/190860DavidArango/Primer_Examen_Parcial_Sabatinos/blob/main/ExMC1908060.ipynb\" target=\"_parent\"><img src=\"https://colab.research.google.com/assets/colab-badge.svg\" alt=\"Open In Colab\"/></a>"
      ]
    },
    {
      "cell_type": "markdown",
      "source": [
        "/content/ExMedioCursoIAPython.py\n"
      ],
      "metadata": {
        "id": "5PtalbYIaxYJ"
      }
    },
    {
      "cell_type": "markdown",
      "source": [
        "/content/IAMC Captura.png"
      ],
      "metadata": {
        "id": "flVQRqMWa7-L"
      }
    }
  ]
}